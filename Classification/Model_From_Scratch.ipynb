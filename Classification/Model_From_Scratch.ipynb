{
  "nbformat": 4,
  "nbformat_minor": 0,
  "metadata": {
    "colab": {
      "name": "Model_From_Scratch.ipynb",
      "provenance": [],
      "collapsed_sections": []
    },
    "kernelspec": {
      "name": "python3",
      "display_name": "Python 3"
    },
    "accelerator": "GPU"
  },
  "cells": [
    {
      "cell_type": "markdown",
      "metadata": {
        "id": "jaaF2XtWDGvD"
      },
      "source": [
        "## **Importing the dependencies**"
      ]
    },
    {
      "cell_type": "code",
      "metadata": {
        "id": "9PfKgPyr4kLW"
      },
      "source": [
        "import os\n",
        "import tensorflow as tf\n",
        "from tensorflow.keras.preprocessing.image import ImageDataGenerator\n",
        "import numpy as np\n",
        "from datetime import datetime\n",
        "\n",
        "SEED = 1234\n",
        "tf.random.set_seed(SEED)  "
      ],
      "execution_count": null,
      "outputs": []
    },
    {
      "cell_type": "code",
      "metadata": {
        "id": "SN4bxyxG5Dl8",
        "colab": {
          "base_uri": "https://localhost:8080/"
        },
        "outputId": "74197b6b-4234-4675-da6d-de342af1eff6"
      },
      "source": [
        "from google.colab import drive\n",
        "drive.mount('/content/drive')"
      ],
      "execution_count": null,
      "outputs": [
        {
          "output_type": "stream",
          "text": [
            "Mounted at /content/drive\n"
          ],
          "name": "stdout"
        }
      ]
    },
    {
      "cell_type": "markdown",
      "metadata": {
        "id": "HvzzUacvD1an"
      },
      "source": [
        "## **Data Loading & Preprocessing**"
      ]
    },
    {
      "cell_type": "code",
      "metadata": {
        "id": "CHpUA9gL4zLw"
      },
      "source": [
        "apply_data_augmentation = True\n",
        "\n",
        "# Create training ImageDataGenerator object\n",
        "if apply_data_augmentation:\n",
        "    train_data_gen = ImageDataGenerator(rotation_range=30,\n",
        "                                        width_shift_range=10,\n",
        "                                        height_shift_range=10,\n",
        "                                        zoom_range=0.3,\n",
        "                                        horizontal_flip=True,\n",
        "                                        brightness_range=[0.4,1.0],\n",
        "                                        fill_mode='constant',\n",
        "                                        cval=0,\n",
        "                                        rescale=1./255)\n",
        "else:\n",
        "    train_data_gen = ImageDataGenerator(rescale=1./255)\n",
        "\n",
        "# Create validation and test ImageDataGenerator objects\n",
        "valid_data_gen = ImageDataGenerator(rescale=1./255)\n",
        "test_data_gen = ImageDataGenerator(rescale=1./255)"
      ],
      "execution_count": null,
      "outputs": []
    },
    {
      "cell_type": "code",
      "metadata": {
        "id": "O_hJ4t7U7oYn",
        "colab": {
          "base_uri": "https://localhost:8080/"
        },
        "outputId": "92efb825-f209-4e4b-b4b3-d3e389c5473b"
      },
      "source": [
        "# Create generators to read images from dataset directory\n",
        "# -------------------------------------------------------\n",
        "dataset_dir = os.path.join('/content/drive/My Drive', 'MaskDataset')\n",
        "\n",
        "# Batch size\n",
        "bs = 16\n",
        "\n",
        "# img shape\n",
        "img_h = 380\n",
        "img_w = 380\n",
        "\n",
        "num_classes=3\n",
        "\n",
        "decide_class_indices = False\n",
        "if decide_class_indices:\n",
        "    classes = ['NoMask',        # 0\n",
        "               'AllMask'        # 1\n",
        "               'SomeMask']      # 2\n",
        "else:\n",
        "    classes=None\n",
        "\n",
        "# Training\n",
        "training_dir = os.path.join(dataset_dir, 'training')\n",
        "train_gen = train_data_gen.flow_from_directory(training_dir,\n",
        "                                               batch_size=bs,\n",
        "                                               classes=classes,\n",
        "                                               class_mode='categorical',\n",
        "                                               target_size=(img_h, img_w),\n",
        "                                               shuffle=True,\n",
        "                                               seed=SEED)  # targets are directly converted into one-hot vectors\n",
        "\n",
        "# Validation\n",
        "validation_dir = os.path.join(dataset_dir, 'validation')\n",
        "valid_gen = valid_data_gen.flow_from_directory(validation_dir,\n",
        "                                               batch_size=bs, \n",
        "                                               classes=classes,\n",
        "                                               class_mode='categorical',\n",
        "                                               target_size=(img_h, img_w),\n",
        "                                               shuffle=False,\n",
        "                                               seed=SEED)\n",
        "\n",
        "# Test\n",
        "test_dir = os.path.join(dataset_dir, 'test')\n",
        "test_gen = test_data_gen.flow_from_directory(test_dir,\n",
        "                                             batch_size=bs, \n",
        "                                             classes=classes,\n",
        "                                             class_mode='categorical',\n",
        "                                             target_size=(img_h, img_w),\n",
        "                                             shuffle=False,\n",
        "                                             seed=SEED)"
      ],
      "execution_count": null,
      "outputs": [
        {
          "output_type": "stream",
          "text": [
            "Found 4717 images belonging to 3 classes.\n",
            "Found 897 images belonging to 3 classes.\n",
            "Found 0 images belonging to 0 classes.\n"
          ],
          "name": "stdout"
        }
      ]
    },
    {
      "cell_type": "code",
      "metadata": {
        "id": "0IbSHeEx9C4i"
      },
      "source": [
        "# Create Dataset objects\n",
        "# ----------------------\n",
        "\n",
        "# Training\n",
        "train_dataset = tf.data.Dataset.from_generator(lambda: train_gen,\n",
        "                                               output_types=(tf.float32, tf.float32),\n",
        "                                               output_shapes=([None, img_h, img_w, 3], [None, num_classes]))\n",
        "train_dataset = train_dataset.repeat()\n",
        "\n",
        "# Validation\n",
        "# ----------\n",
        "valid_dataset = tf.data.Dataset.from_generator(lambda: valid_gen, \n",
        "                                               output_types=(tf.float32, tf.float32),\n",
        "                                               output_shapes=([None, img_h, img_w, 3], [None, num_classes]))\n",
        "\n",
        "valid_dataset = valid_dataset.repeat()\n",
        "\n",
        "# Test\n",
        "# ----\n",
        "test_dataset = tf.data.Dataset.from_generator(lambda: test_gen,\n",
        "                                              output_types=(tf.float32, tf.float32),\n",
        "                                              output_shapes=([None, img_h, img_w, 3], [None, num_classes]))\n",
        "test_dataset = valid_dataset.repeat()"
      ],
      "execution_count": null,
      "outputs": []
    },
    {
      "cell_type": "markdown",
      "metadata": {
        "id": "y7ZIpI8yD_D2"
      },
      "source": [
        "## **Model**"
      ]
    },
    {
      "cell_type": "code",
      "metadata": {
        "id": "wMBM48Iq-QH9"
      },
      "source": [
        "# Architecture: Features extraction -> Classifier\n",
        "\n",
        "start_f = 8\n",
        "depth = 3\n",
        "\n",
        "model = tf.keras.Sequential()\n",
        "model.add(tf.keras.layers.Cropping2D(cropping=(90, 90), data_format=None))\n",
        "\n",
        "\n",
        "# Features extraction\n",
        "for i in range(depth):\n",
        "\n",
        "    if i == 0:\n",
        "        input_shape = [img_h, img_w, 3]\n",
        "    else:\n",
        "        input_shape=[None]\n",
        "\n",
        "    # Conv block: Conv2D -> Activation -> Pooling\n",
        "    model.add(tf.keras.layers.Conv2D(filters=start_f, \n",
        "                                     kernel_size=(3, 3),\n",
        "                                     strides=(1, 1),\n",
        "                                     padding='same',\n",
        "                                     activation='relu',\n",
        "                                     input_shape=input_shape))\n",
        "    model.add(tf.keras.layers.MaxPool2D(pool_size=(2, 2)))\n",
        "\n",
        "    start_f *= 2\n",
        "\n",
        " \n",
        "# Classifier\n",
        "model.add(tf.keras.layers.Flatten())\n",
        "model.add(tf.keras.layers.Dropout(0.3))\n",
        "model.add(tf.keras.layers.Dense(units=256, activation='relu'))\n",
        "model.add(tf.keras.layers.Dense(units=num_classes, activation='softmax'))"
      ],
      "execution_count": null,
      "outputs": []
    },
    {
      "cell_type": "code",
      "metadata": {
        "id": "861CrLRO-Q6i"
      },
      "source": [
        "# Visualize created model as a table\n",
        "model.summary()"
      ],
      "execution_count": null,
      "outputs": []
    },
    {
      "cell_type": "code",
      "metadata": {
        "id": "k6fX2MeR-U48"
      },
      "source": [
        "# Optimization params\n",
        "# -------------------\n",
        "\n",
        "# Loss\n",
        "loss = tf.keras.losses.CategoricalCrossentropy()\n",
        "\n",
        "# learning rate\n",
        "lr = 1e-3\n",
        "optimizer = tf.keras.optimizers.Adam(learning_rate=lr)\n",
        "# -------------------\n",
        "\n",
        "# Validation metrics\n",
        "# ------------------\n",
        "\n",
        "metrics = ['accuracy']\n",
        "# ------------------\n",
        "\n",
        "# Compile Model\n",
        "model.compile(optimizer=optimizer, loss=loss, metrics=metrics)"
      ],
      "execution_count": null,
      "outputs": []
    },
    {
      "cell_type": "code",
      "metadata": {
        "id": "lzpRKbkJ-bea"
      },
      "source": [
        "exps_dir = os.path.join('/content/drive/My Drive/Keras3/', 'classification_experiments')\n",
        "if not os.path.exists(exps_dir):\n",
        "    os.makedirs(exps_dir)\n",
        "\n",
        "now = datetime.now().strftime('%b%d_%H-%M-%S')\n",
        "\n",
        "model_name = 'CNN'\n",
        "\n",
        "exp_dir = os.path.join(exps_dir, model_name + '_' + str(now))\n",
        "if not os.path.exists(exp_dir):\n",
        "    os.makedirs(exp_dir)\n",
        "    \n",
        "callbacks = []\n",
        "\n",
        "# Model checkpoint\n",
        "# ----------------\n",
        "ckpt_dir = os.path.join(exp_dir, 'ckpts')\n",
        "if not os.path.exists(ckpt_dir):\n",
        "    os.makedirs(ckpt_dir)\n",
        "\n",
        "ckpt_callback = tf.keras.callbacks.ModelCheckpoint(filepath=os.path.join(ckpt_dir, 'cp_{epoch:02d}.ckpt'), \n",
        "                                                   save_weights_only=True)  # False to save the model directly\n",
        "callbacks.append(ckpt_callback)\n",
        "\n",
        "# Visualize Learning on Tensorboard\n",
        "# ---------------------------------\n",
        "tb_dir = os.path.join(exp_dir, 'tb_logs')\n",
        "if not os.path.exists(tb_dir):\n",
        "    os.makedirs(tb_dir)\n",
        "    \n",
        "# By default shows losses and metrics for both training and validation\n",
        "tb_callback = tf.keras.callbacks.TensorBoard(log_dir=tb_dir,\n",
        "                                             profile_batch=0,\n",
        "                                             histogram_freq=1)  # if 1 shows weights histograms\n",
        "callbacks.append(tb_callback)\n",
        "\n",
        "# Early Stopping\n",
        "# --------------\n",
        "early_stop = True\n",
        "if early_stop:\n",
        "    es_callback = tf.keras.callbacks.EarlyStopping(monitor='val_loss', patience=20)\n",
        "    callbacks.append(es_callback)\n",
        "\n",
        "# ReduceLROnPlateau\n",
        "# --------------\n",
        "\n",
        "lr_callback = tf.keras.callbacks.ReduceLROnPlateau(monitor='val_loss', factor=0.2,\n",
        "                                                   patience=5, min_lr=0.00001)\n",
        "\n",
        "callbacks.append(lr_callback)"
      ],
      "execution_count": null,
      "outputs": []
    },
    {
      "cell_type": "markdown",
      "metadata": {
        "id": "qerEfzEpEQv1"
      },
      "source": [
        "## **Training**"
      ]
    },
    {
      "cell_type": "code",
      "metadata": {
        "id": "5b_KC7_6y0vl",
        "colab": {
          "base_uri": "https://localhost:8080/"
        },
        "outputId": "4638f260-4954-4084-cd56-834eae86371f"
      },
      "source": [
        "model.fit(x=train_dataset,\n",
        "          epochs=100,  \n",
        "          steps_per_epoch=len(train_gen),\n",
        "          validation_data=valid_dataset,\n",
        "          validation_steps=len(valid_gen), \n",
        "          callbacks=callbacks)"
      ],
      "execution_count": null,
      "outputs": [
        {
          "output_type": "stream",
          "text": [
            "Epoch 1/100\n",
            "295/295 [==============================] - 1126s 4s/step - loss: 1.1105 - accuracy: 0.3392 - val_loss: 1.0967 - val_accuracy: 0.3534\n",
            "Epoch 2/100\n",
            "295/295 [==============================] - 190s 645ms/step - loss: 1.0962 - accuracy: 0.3653 - val_loss: 1.0954 - val_accuracy: 0.4047\n",
            "Epoch 3/100\n",
            "295/295 [==============================] - 182s 616ms/step - loss: 1.0935 - accuracy: 0.3755 - val_loss: 1.0729 - val_accuracy: 0.4526\n",
            "Epoch 4/100\n",
            "295/295 [==============================] - 177s 601ms/step - loss: 1.0720 - accuracy: 0.4257 - val_loss: 1.0090 - val_accuracy: 0.4961\n",
            "Epoch 5/100\n",
            "295/295 [==============================] - 176s 595ms/step - loss: 1.0293 - accuracy: 0.4745 - val_loss: 1.0179 - val_accuracy: 0.4738\n",
            "Epoch 6/100\n",
            "295/295 [==============================] - 175s 594ms/step - loss: 0.9859 - accuracy: 0.5001 - val_loss: 0.9889 - val_accuracy: 0.5184\n",
            "Epoch 7/100\n",
            "295/295 [==============================] - 175s 594ms/step - loss: 0.9627 - accuracy: 0.5177 - val_loss: 1.2540 - val_accuracy: 0.4615\n",
            "Epoch 8/100\n",
            "295/295 [==============================] - 174s 590ms/step - loss: 0.9328 - accuracy: 0.5381 - val_loss: 0.9295 - val_accuracy: 0.5719\n",
            "Epoch 9/100\n",
            "295/295 [==============================] - 173s 587ms/step - loss: 0.9076 - accuracy: 0.5561 - val_loss: 0.8931 - val_accuracy: 0.5674\n",
            "Epoch 10/100\n",
            "295/295 [==============================] - 173s 588ms/step - loss: 0.8834 - accuracy: 0.5732 - val_loss: 0.8488 - val_accuracy: 0.6054\n",
            "Epoch 11/100\n",
            "295/295 [==============================] - 173s 588ms/step - loss: 0.8537 - accuracy: 0.5902 - val_loss: 0.8401 - val_accuracy: 0.6132\n",
            "Epoch 12/100\n",
            "295/295 [==============================] - 173s 587ms/step - loss: 0.8363 - accuracy: 0.6012 - val_loss: 1.1696 - val_accuracy: 0.5206\n",
            "Epoch 13/100\n",
            "295/295 [==============================] - 173s 585ms/step - loss: 0.8209 - accuracy: 0.6053 - val_loss: 0.8762 - val_accuracy: 0.5942\n",
            "Epoch 14/100\n",
            "295/295 [==============================] - 176s 595ms/step - loss: 0.7977 - accuracy: 0.6080 - val_loss: 0.7296 - val_accuracy: 0.6533\n",
            "Epoch 15/100\n",
            "295/295 [==============================] - 175s 592ms/step - loss: 0.7774 - accuracy: 0.6250 - val_loss: 0.7559 - val_accuracy: 0.6321\n",
            "Epoch 16/100\n",
            "295/295 [==============================] - 175s 594ms/step - loss: 0.7655 - accuracy: 0.6326 - val_loss: 0.8023 - val_accuracy: 0.6477\n",
            "Epoch 17/100\n",
            "295/295 [==============================] - 174s 590ms/step - loss: 0.7635 - accuracy: 0.6256 - val_loss: 0.7736 - val_accuracy: 0.6466\n",
            "Epoch 18/100\n",
            "295/295 [==============================] - 174s 589ms/step - loss: 0.7260 - accuracy: 0.6608 - val_loss: 0.7160 - val_accuracy: 0.6689\n",
            "Epoch 19/100\n",
            "295/295 [==============================] - 176s 596ms/step - loss: 0.7307 - accuracy: 0.6525 - val_loss: 0.8160 - val_accuracy: 0.6366\n",
            "Epoch 20/100\n",
            "295/295 [==============================] - 189s 640ms/step - loss: 0.7111 - accuracy: 0.6610 - val_loss: 0.7370 - val_accuracy: 0.6789\n",
            "Epoch 21/100\n",
            "295/295 [==============================] - 182s 618ms/step - loss: 0.7246 - accuracy: 0.6504 - val_loss: 0.6714 - val_accuracy: 0.7035\n",
            "Epoch 22/100\n",
            "295/295 [==============================] - 178s 602ms/step - loss: 0.7047 - accuracy: 0.6667 - val_loss: 0.7441 - val_accuracy: 0.6678\n",
            "Epoch 23/100\n",
            "295/295 [==============================] - 175s 594ms/step - loss: 0.6961 - accuracy: 0.6735 - val_loss: 0.8349 - val_accuracy: 0.6221\n",
            "Epoch 24/100\n",
            "295/295 [==============================] - 175s 594ms/step - loss: 0.6877 - accuracy: 0.6659 - val_loss: 0.7946 - val_accuracy: 0.6421\n",
            "Epoch 25/100\n",
            "295/295 [==============================] - 175s 592ms/step - loss: 0.6899 - accuracy: 0.6678 - val_loss: 0.9704 - val_accuracy: 0.6176\n",
            "Epoch 26/100\n",
            "295/295 [==============================] - 175s 593ms/step - loss: 0.6721 - accuracy: 0.6790 - val_loss: 0.7531 - val_accuracy: 0.6789\n",
            "Epoch 27/100\n",
            "295/295 [==============================] - 174s 591ms/step - loss: 0.6357 - accuracy: 0.6983 - val_loss: 0.7360 - val_accuracy: 0.7079\n",
            "Epoch 28/100\n",
            "295/295 [==============================] - 174s 591ms/step - loss: 0.6406 - accuracy: 0.6928 - val_loss: 0.6653 - val_accuracy: 0.7168\n",
            "Epoch 29/100\n",
            "295/295 [==============================] - 174s 589ms/step - loss: 0.6404 - accuracy: 0.6934 - val_loss: 0.8106 - val_accuracy: 0.6678\n",
            "Epoch 30/100\n",
            "295/295 [==============================] - 174s 590ms/step - loss: 0.6272 - accuracy: 0.7083 - val_loss: 0.7629 - val_accuracy: 0.6934\n",
            "Epoch 31/100\n",
            "295/295 [==============================] - 174s 591ms/step - loss: 0.6246 - accuracy: 0.6981 - val_loss: 0.7837 - val_accuracy: 0.6912\n",
            "Epoch 32/100\n",
            "295/295 [==============================] - 173s 587ms/step - loss: 0.6251 - accuracy: 0.7121 - val_loss: 0.7913 - val_accuracy: 0.6912\n",
            "Epoch 33/100\n",
            "295/295 [==============================] - 174s 591ms/step - loss: 0.6217 - accuracy: 0.7066 - val_loss: 0.7029 - val_accuracy: 0.7090\n",
            "Epoch 34/100\n",
            "295/295 [==============================] - 174s 589ms/step - loss: 0.6245 - accuracy: 0.7055 - val_loss: 0.7778 - val_accuracy: 0.6890\n",
            "Epoch 35/100\n",
            "295/295 [==============================] - 174s 588ms/step - loss: 0.6153 - accuracy: 0.7066 - val_loss: 0.7610 - val_accuracy: 0.6912\n",
            "Epoch 36/100\n",
            "295/295 [==============================] - 173s 588ms/step - loss: 0.6265 - accuracy: 0.7032 - val_loss: 0.7402 - val_accuracy: 0.7035\n",
            "Epoch 37/100\n",
            "295/295 [==============================] - 173s 588ms/step - loss: 0.6106 - accuracy: 0.7138 - val_loss: 0.7955 - val_accuracy: 0.6890\n",
            "Epoch 38/100\n",
            "295/295 [==============================] - 173s 586ms/step - loss: 0.6226 - accuracy: 0.7036 - val_loss: 0.7389 - val_accuracy: 0.7079\n",
            "Epoch 39/100\n",
            "295/295 [==============================] - 173s 586ms/step - loss: 0.6084 - accuracy: 0.7195 - val_loss: 0.7606 - val_accuracy: 0.6968\n",
            "Epoch 40/100\n",
            "295/295 [==============================] - 173s 587ms/step - loss: 0.6036 - accuracy: 0.7113 - val_loss: 0.7675 - val_accuracy: 0.6957\n",
            "Epoch 41/100\n",
            "295/295 [==============================] - 173s 587ms/step - loss: 0.6078 - accuracy: 0.7155 - val_loss: 0.7589 - val_accuracy: 0.6990\n",
            "Epoch 42/100\n",
            "295/295 [==============================] - 174s 589ms/step - loss: 0.6171 - accuracy: 0.7121 - val_loss: 0.7495 - val_accuracy: 0.7023\n",
            "Epoch 43/100\n",
            "295/295 [==============================] - 173s 586ms/step - loss: 0.6071 - accuracy: 0.7138 - val_loss: 0.7733 - val_accuracy: 0.6923\n",
            "Epoch 44/100\n",
            "295/295 [==============================] - 174s 589ms/step - loss: 0.6106 - accuracy: 0.7206 - val_loss: 0.7783 - val_accuracy: 0.6912\n",
            "Epoch 45/100\n",
            "295/295 [==============================] - 173s 588ms/step - loss: 0.6090 - accuracy: 0.7204 - val_loss: 0.7514 - val_accuracy: 0.7035\n",
            "Epoch 46/100\n",
            "295/295 [==============================] - 174s 589ms/step - loss: 0.6171 - accuracy: 0.7121 - val_loss: 0.7484 - val_accuracy: 0.7012\n",
            "Epoch 47/100\n",
            "295/295 [==============================] - 176s 595ms/step - loss: 0.6102 - accuracy: 0.7229 - val_loss: 0.7505 - val_accuracy: 0.7023\n",
            "Epoch 48/100\n",
            "295/295 [==============================] - 177s 600ms/step - loss: 0.6078 - accuracy: 0.7214 - val_loss: 0.7472 - val_accuracy: 0.7057\n"
          ],
          "name": "stdout"
        },
        {
          "output_type": "execute_result",
          "data": {
            "text/plain": [
              "<tensorflow.python.keras.callbacks.History at 0x7f47ba70ec50>"
            ]
          },
          "metadata": {
            "tags": []
          },
          "execution_count": 9
        }
      ]
    }
  ]
}